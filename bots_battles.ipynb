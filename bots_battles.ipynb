{
 "cells": [
  {
   "cell_type": "markdown",
   "metadata": {},
   "source": [
    "# BotsBattles"
   ]
  },
  {
   "cell_type": "markdown",
   "metadata": {},
   "source": [
    "### Simple showcase"
   ]
  },
  {
   "cell_type": "markdown",
   "metadata": {},
   "source": [
    "#### Basic imports"
   ]
  },
  {
   "cell_type": "code",
   "execution_count": 2,
   "metadata": {},
   "outputs": [],
   "source": [
    "from src import make_env, get_session_id, spawn_bots, RandomAgent, CloseFoodAgent, GradAgent, cleanup\n",
    "import numpy as np"
   ]
  },
  {
   "cell_type": "code",
   "execution_count": 2,
   "metadata": {},
   "outputs": [
    {
     "name": "stdout",
     "output_type": "stream",
     "text": [
      "Requirement already satisfied: setproctitle in d:\\projects\\teamproject\\pz-11-ml\\ml_env\\lib\\site-packages (1.2.2)\n"
     ]
    }
   ],
   "source": [
    "! pip install setproctitle"
   ]
  },
  {
   "cell_type": "markdown",
   "metadata": {},
   "source": [
    "#### Create an environment for Agarn't game"
   ]
  },
  {
   "cell_type": "code",
   "execution_count": 3,
   "metadata": {},
   "outputs": [
    {
     "ename": "ConnectionClosedError",
     "evalue": "received 1011 (unexpected error); then sent 1011 (unexpected error)",
     "output_type": "error",
     "traceback": [
      "\u001B[1;31m---------------------------------------------------------------------------\u001B[0m",
      "\u001B[1;31mConnectionClosedError\u001B[0m                     Traceback (most recent call last)",
      "\u001B[1;32mc:\\Users\\Alicja\\Desktop\\studia\\projekt_zima_2021\\pz-11-ml\\bots_battles.ipynb Cell 7'\u001B[0m in \u001B[0;36m<module>\u001B[1;34m\u001B[0m\n\u001B[1;32m----> <a href='vscode-notebook-cell:/c%3A/Users/Alicja/Desktop/studia/projekt_zima_2021/pz-11-ml/bots_battles.ipynb#ch0000006?line=0'>1</a>\u001B[0m make_env(\u001B[39m\"\u001B[39;49m\u001B[39mws://localhost:2137\u001B[39;49m\u001B[39m\"\u001B[39;49m, \u001B[39m\"\u001B[39;49m\u001B[39magarnt\u001B[39;49m\u001B[39m\"\u001B[39;49m, \u001B[39m\"\u001B[39;49m\u001B[39magarnt\u001B[39;49m\u001B[39m\"\u001B[39;49m, \u001B[39m\"\u001B[39;49m\u001B[39mtest_bot\u001B[39;49m\u001B[39m\"\u001B[39;49m)\n",
      "File \u001B[1;32mc:\\Users\\Alicja\\Desktop\\studia\\projekt_zima_2021\\pz-11-ml\\src\\base\\__init__.py:40\u001B[0m, in \u001B[0;36mmake_env\u001B[1;34m(server, name, game_type, bot_name, session_id, join)\u001B[0m\n\u001B[0;32m     <a href='file:///c%3A/Users/Alicja/Desktop/studia/projekt_zima_2021/pz-11-ml/src/base/__init__.py?line=18'>19</a>\u001B[0m \u001B[39mdef\u001B[39;00m \u001B[39mmake_env\u001B[39m(server: \u001B[39mstr\u001B[39m, name: \u001B[39mstr\u001B[39m, game_type: \u001B[39mstr\u001B[39m, \n\u001B[0;32m     <a href='file:///c%3A/Users/Alicja/Desktop/studia/projekt_zima_2021/pz-11-ml/src/base/__init__.py?line=19'>20</a>\u001B[0m \t\t\t\t   bot_name: \u001B[39mstr\u001B[39m, session_id: Optional[\u001B[39mstr\u001B[39m] \u001B[39m=\u001B[39m\u001B[39mNone\u001B[39;00m,\n\u001B[0;32m     <a href='file:///c%3A/Users/Alicja/Desktop/studia/projekt_zima_2021/pz-11-ml/src/base/__init__.py?line=20'>21</a>\u001B[0m \t\t\t\t   join: \u001B[39mbool\u001B[39m \u001B[39m=\u001B[39m\u001B[39mFalse\u001B[39;00m) \u001B[39m-\u001B[39m\u001B[39m>\u001B[39m WebSocketClientProtocol:\n\u001B[0;32m     <a href='file:///c%3A/Users/Alicja/Desktop/studia/projekt_zima_2021/pz-11-ml/src/base/__init__.py?line=21'>22</a>\u001B[0m \t\u001B[39m\"\"\"Makes the environment, that is, creates or joins to game based on provided server URL, name of game and session identifier\u001B[39;00m\n\u001B[0;32m     <a href='file:///c%3A/Users/Alicja/Desktop/studia/projekt_zima_2021/pz-11-ml/src/base/__init__.py?line=22'>23</a>\u001B[0m \n\u001B[0;32m     <a href='file:///c%3A/Users/Alicja/Desktop/studia/projekt_zima_2021/pz-11-ml/src/base/__init__.py?line=23'>24</a>\u001B[0m \u001B[39m\tArgs:\u001B[39;00m\n\u001B[1;32m   (...)\u001B[0m\n\u001B[0;32m     <a href='file:///c%3A/Users/Alicja/Desktop/studia/projekt_zima_2021/pz-11-ml/src/base/__init__.py?line=35'>36</a>\u001B[0m \u001B[39m\t\tWebSocketClientProtocol: Obtained connection\u001B[39;00m\n\u001B[0;32m     <a href='file:///c%3A/Users/Alicja/Desktop/studia/projekt_zima_2021/pz-11-ml/src/base/__init__.py?line=36'>37</a>\u001B[0m \u001B[39m\t\"\"\"\u001B[39;00m\n\u001B[1;32m---> <a href='file:///c%3A/Users/Alicja/Desktop/studia/projekt_zima_2021/pz-11-ml/src/base/__init__.py?line=39'>40</a>\u001B[0m \tsocket: WebSocketClientProtocol \u001B[39m=\u001B[39m __make_env(server, name, game_type, bot_name, session_id, join)\n\u001B[0;32m     <a href='file:///c%3A/Users/Alicja/Desktop/studia/projekt_zima_2021/pz-11-ml/src/base/__init__.py?line=41'>42</a>\u001B[0m \t_logger\u001B[39m.\u001B[39mwarn(\u001B[39mf\u001B[39m\u001B[39m\"\u001B[39m\u001B[39mEstablished connection at: \u001B[39m\u001B[39m{\u001B[39;00msocket\u001B[39m.\u001B[39mhost\u001B[39m}\u001B[39;00m\u001B[39m\"\u001B[39m)\n\u001B[0;32m     <a href='file:///c%3A/Users/Alicja/Desktop/studia/projekt_zima_2021/pz-11-ml/src/base/__init__.py?line=42'>43</a>\u001B[0m \t\u001B[39mreturn\u001B[39;00m socket\n",
      "File \u001B[1;32mc:\\Users\\Alicja\\Desktop\\studia\\projekt_zima_2021\\pz-11-ml\\src\\base\\_gameproxy.py:134\u001B[0m, in \u001B[0;36m_Proxy.__call__\u001B[1;34m(self, *args, **kwds)\u001B[0m\n\u001B[0;32m    <a href='file:///c%3A/Users/Alicja/Desktop/studia/projekt_zima_2021/pz-11-ml/src/base/_gameproxy.py?line=127'>128</a>\u001B[0m \u001B[39mdef\u001B[39;00m \u001B[39m__call__\u001B[39m(\u001B[39mself\u001B[39m, \u001B[39m*\u001B[39margs: Any, \u001B[39m*\u001B[39m\u001B[39m*\u001B[39mkwds: Any):\n\u001B[0;32m    <a href='file:///c%3A/Users/Alicja/Desktop/studia/projekt_zima_2021/pz-11-ml/src/base/_gameproxy.py?line=128'>129</a>\u001B[0m \t\u001B[39m\"\"\"Calls implementation of _call method provided by subclasses.\u001B[39;00m\n\u001B[0;32m    <a href='file:///c%3A/Users/Alicja/Desktop/studia/projekt_zima_2021/pz-11-ml/src/base/_gameproxy.py?line=129'>130</a>\u001B[0m \n\u001B[0;32m    <a href='file:///c%3A/Users/Alicja/Desktop/studia/projekt_zima_2021/pz-11-ml/src/base/_gameproxy.py?line=130'>131</a>\u001B[0m \u001B[39m\tReturns:\u001B[39;00m\n\u001B[0;32m    <a href='file:///c%3A/Users/Alicja/Desktop/studia/projekt_zima_2021/pz-11-ml/src/base/_gameproxy.py?line=131'>132</a>\u001B[0m \u001B[39m\t\tAny: result of _call method delivered by subclass.\u001B[39;00m\n\u001B[0;32m    <a href='file:///c%3A/Users/Alicja/Desktop/studia/projekt_zima_2021/pz-11-ml/src/base/_gameproxy.py?line=132'>133</a>\u001B[0m \u001B[39m\t\"\"\"\u001B[39;00m\n\u001B[1;32m--> <a href='file:///c%3A/Users/Alicja/Desktop/studia/projekt_zima_2021/pz-11-ml/src/base/_gameproxy.py?line=133'>134</a>\u001B[0m \t\u001B[39mreturn\u001B[39;00m \u001B[39mself\u001B[39m\u001B[39m.\u001B[39m_call(\u001B[39m*\u001B[39margs, \u001B[39m*\u001B[39m\u001B[39m*\u001B[39mkwds)\n",
      "File \u001B[1;32mc:\\Users\\Alicja\\Desktop\\studia\\projekt_zima_2021\\pz-11-ml\\src\\base\\_gameproxy.py:174\u001B[0m, in \u001B[0;36m__ConnectionProxy._call\u001B[1;34m(self, *args, **kwds)\u001B[0m\n\u001B[0;32m    <a href='file:///c%3A/Users/Alicja/Desktop/studia/projekt_zima_2021/pz-11-ml/src/base/_gameproxy.py?line=170'>171</a>\u001B[0m future\u001B[39m.\u001B[39madd_done_callback(\u001B[39mlambda\u001B[39;00m _: _logger\u001B[39m.\u001B[39minfo(\u001B[39m\"\u001B[39m\u001B[39mFinished an attempt to connect with host\u001B[39m\u001B[39m\"\u001B[39m))\n\u001B[0;32m    <a href='file:///c%3A/Users/Alicja/Desktop/studia/projekt_zima_2021/pz-11-ml/src/base/_gameproxy.py?line=172'>173</a>\u001B[0m \u001B[39mfor\u001B[39;00m f \u001B[39min\u001B[39;00m cf\u001B[39m.\u001B[39mas_completed([future]):\n\u001B[1;32m--> <a href='file:///c%3A/Users/Alicja/Desktop/studia/projekt_zima_2021/pz-11-ml/src/base/_gameproxy.py?line=173'>174</a>\u001B[0m \tsocket: WebSocketClientProtocol \u001B[39m=\u001B[39mf\u001B[39m.\u001B[39;49mresult()\n\u001B[0;32m    <a href='file:///c%3A/Users/Alicja/Desktop/studia/projekt_zima_2021/pz-11-ml/src/base/_gameproxy.py?line=175'>176</a>\u001B[0m \u001B[39mself\u001B[39m\u001B[39m.\u001B[39m_task \u001B[39m=\u001B[39m \u001B[39mNone\u001B[39;00m\n\u001B[0;32m    <a href='file:///c%3A/Users/Alicja/Desktop/studia/projekt_zima_2021/pz-11-ml/src/base/_gameproxy.py?line=176'>177</a>\u001B[0m _h_conn\u001B[39m.\u001B[39msocket \u001B[39m=\u001B[39m socket\n",
      "File \u001B[1;32m~\\AppData\\Local\\Programs\\Python\\Python39\\lib\\concurrent\\futures\\_base.py:438\u001B[0m, in \u001B[0;36mFuture.result\u001B[1;34m(self, timeout)\u001B[0m\n\u001B[0;32m    <a href='file:///~/AppData/Local/Programs/Python/Python39/lib/concurrent/futures/_base.py?line=435'>436</a>\u001B[0m     \u001B[39mraise\u001B[39;00m CancelledError()\n\u001B[0;32m    <a href='file:///~/AppData/Local/Programs/Python/Python39/lib/concurrent/futures/_base.py?line=436'>437</a>\u001B[0m \u001B[39melif\u001B[39;00m \u001B[39mself\u001B[39m\u001B[39m.\u001B[39m_state \u001B[39m==\u001B[39m FINISHED:\n\u001B[1;32m--> <a href='file:///~/AppData/Local/Programs/Python/Python39/lib/concurrent/futures/_base.py?line=437'>438</a>\u001B[0m     \u001B[39mreturn\u001B[39;00m \u001B[39mself\u001B[39;49m\u001B[39m.\u001B[39;49m__get_result()\n\u001B[0;32m    <a href='file:///~/AppData/Local/Programs/Python/Python39/lib/concurrent/futures/_base.py?line=439'>440</a>\u001B[0m \u001B[39mself\u001B[39m\u001B[39m.\u001B[39m_condition\u001B[39m.\u001B[39mwait(timeout)\n\u001B[0;32m    <a href='file:///~/AppData/Local/Programs/Python/Python39/lib/concurrent/futures/_base.py?line=441'>442</a>\u001B[0m \u001B[39mif\u001B[39;00m \u001B[39mself\u001B[39m\u001B[39m.\u001B[39m_state \u001B[39min\u001B[39;00m [CANCELLED, CANCELLED_AND_NOTIFIED]:\n",
      "File \u001B[1;32m~\\AppData\\Local\\Programs\\Python\\Python39\\lib\\concurrent\\futures\\_base.py:390\u001B[0m, in \u001B[0;36mFuture.__get_result\u001B[1;34m(self)\u001B[0m\n\u001B[0;32m    <a href='file:///~/AppData/Local/Programs/Python/Python39/lib/concurrent/futures/_base.py?line=387'>388</a>\u001B[0m \u001B[39mif\u001B[39;00m \u001B[39mself\u001B[39m\u001B[39m.\u001B[39m_exception:\n\u001B[0;32m    <a href='file:///~/AppData/Local/Programs/Python/Python39/lib/concurrent/futures/_base.py?line=388'>389</a>\u001B[0m     \u001B[39mtry\u001B[39;00m:\n\u001B[1;32m--> <a href='file:///~/AppData/Local/Programs/Python/Python39/lib/concurrent/futures/_base.py?line=389'>390</a>\u001B[0m         \u001B[39mraise\u001B[39;00m \u001B[39mself\u001B[39m\u001B[39m.\u001B[39m_exception\n\u001B[0;32m    <a href='file:///~/AppData/Local/Programs/Python/Python39/lib/concurrent/futures/_base.py?line=390'>391</a>\u001B[0m     \u001B[39mfinally\u001B[39;00m:\n\u001B[0;32m    <a href='file:///~/AppData/Local/Programs/Python/Python39/lib/concurrent/futures/_base.py?line=391'>392</a>\u001B[0m         \u001B[39m# Break a reference cycle with the exception in self._exception\u001B[39;00m\n\u001B[0;32m    <a href='file:///~/AppData/Local/Programs/Python/Python39/lib/concurrent/futures/_base.py?line=392'>393</a>\u001B[0m         \u001B[39mself\u001B[39m \u001B[39m=\u001B[39m \u001B[39mNone\u001B[39;00m\n",
      "File \u001B[1;32mc:\\Users\\Alicja\\Desktop\\studia\\projekt_zima_2021\\pz-11-ml\\src\\base\\_utils.py:166\u001B[0m, in \u001B[0;36m_ThreadedAsyncioExecutor.__schedule_subscription_task\u001B[1;34m(self, task)\u001B[0m\n\u001B[0;32m    <a href='file:///c%3A/Users/Alicja/Desktop/studia/projekt_zima_2021/pz-11-ml/src/base/_utils.py?line=156'>157</a>\u001B[0m \u001B[39masync\u001B[39;00m \u001B[39mdef\u001B[39;00m \u001B[39m__schedule_subscription_task\u001B[39m(\u001B[39mself\u001B[39m, task: Task):\n\u001B[0;32m    <a href='file:///c%3A/Users/Alicja/Desktop/studia/projekt_zima_2021/pz-11-ml/src/base/_utils.py?line=157'>158</a>\u001B[0m \t\u001B[39m\"\"\"Schedules given task to await.\u001B[39;00m\n\u001B[0;32m    <a href='file:///c%3A/Users/Alicja/Desktop/studia/projekt_zima_2021/pz-11-ml/src/base/_utils.py?line=158'>159</a>\u001B[0m \n\u001B[0;32m    <a href='file:///c%3A/Users/Alicja/Desktop/studia/projekt_zima_2021/pz-11-ml/src/base/_utils.py?line=159'>160</a>\u001B[0m \u001B[39m\tArgs:\u001B[39;00m\n\u001B[1;32m   (...)\u001B[0m\n\u001B[0;32m    <a href='file:///c%3A/Users/Alicja/Desktop/studia/projekt_zima_2021/pz-11-ml/src/base/_utils.py?line=163'>164</a>\u001B[0m \u001B[39m\t\tAny: value collected from Task object.\u001B[39;00m\n\u001B[0;32m    <a href='file:///c%3A/Users/Alicja/Desktop/studia/projekt_zima_2021/pz-11-ml/src/base/_utils.py?line=164'>165</a>\u001B[0m \u001B[39m\t\"\"\"\u001B[39;00m\n\u001B[1;32m--> <a href='file:///c%3A/Users/Alicja/Desktop/studia/projekt_zima_2021/pz-11-ml/src/base/_utils.py?line=165'>166</a>\u001B[0m \tresult \u001B[39m=\u001B[39m \u001B[39mawait\u001B[39;00m task\n\u001B[0;32m    <a href='file:///c%3A/Users/Alicja/Desktop/studia/projekt_zima_2021/pz-11-ml/src/base/_utils.py?line=166'>167</a>\u001B[0m \t\u001B[39mawait\u001B[39;00m asyncio\u001B[39m.\u001B[39msleep(\u001B[39m0\u001B[39m)\n\u001B[0;32m    <a href='file:///c%3A/Users/Alicja/Desktop/studia/projekt_zima_2021/pz-11-ml/src/base/_utils.py?line=167'>168</a>\u001B[0m \t\u001B[39mreturn\u001B[39;00m result\n",
      "File \u001B[1;32mc:\\Users\\Alicja\\Desktop\\studia\\projekt_zima_2021\\pz-11-ml\\src\\base\\__init__.py:57\u001B[0m, in \u001B[0;36m__make_env\u001B[1;34m(server, name, game_type, bot_name, session_id, join)\u001B[0m\n\u001B[0;32m     <a href='file:///c%3A/Users/Alicja/Desktop/studia/projekt_zima_2021/pz-11-ml/src/base/__init__.py?line=53'>54</a>\u001B[0m \t\tsession_id \u001B[39m=\u001B[39m \u001B[39mawait\u001B[39;00m web_socket\u001B[39m.\u001B[39mrecv()\n\u001B[0;32m     <a href='file:///c%3A/Users/Alicja/Desktop/studia/projekt_zima_2021/pz-11-ml/src/base/__init__.py?line=54'>55</a>\u001B[0m \t\t\u001B[39mawait\u001B[39;00m asyncio\u001B[39m.\u001B[39msleep(\u001B[39m0\u001B[39m)\n\u001B[1;32m---> <a href='file:///c%3A/Users/Alicja/Desktop/studia/projekt_zima_2021/pz-11-ml/src/base/__init__.py?line=56'>57</a>\u001B[0m \u001B[39mreturn\u001B[39;00m \u001B[39mawait\u001B[39;00m __join(server, session_id, bot_name)\n",
      "File \u001B[1;32mc:\\Users\\Alicja\\Desktop\\studia\\projekt_zima_2021\\pz-11-ml\\src\\base\\__init__.py:79\u001B[0m, in \u001B[0;36m__join\u001B[1;34m(server, session_id, bot_name)\u001B[0m\n\u001B[0;32m     <a href='file:///c%3A/Users/Alicja/Desktop/studia/projekt_zima_2021/pz-11-ml/src/base/__init__.py?line=75'>76</a>\u001B[0m url \u001B[39m=\u001B[39m \u001B[39mf\u001B[39m\u001B[39m\"\u001B[39m\u001B[39m{\u001B[39;00mserver\u001B[39m}\u001B[39;00m\u001B[39m/join_to_game?player_name=\u001B[39m\u001B[39m{\u001B[39;00mbot_name\u001B[39m}\u001B[39;00m\u001B[39m&session_id=\u001B[39m\u001B[39m{\u001B[39;00msession_id\u001B[39m}\u001B[39;00m\u001B[39m&is_spectator=False\u001B[39m\u001B[39m\"\u001B[39m\n\u001B[0;32m     <a href='file:///c%3A/Users/Alicja/Desktop/studia/projekt_zima_2021/pz-11-ml/src/base/__init__.py?line=77'>78</a>\u001B[0m socket \u001B[39m=\u001B[39m \u001B[39mawait\u001B[39;00m connect(url)\n\u001B[1;32m---> <a href='file:///c%3A/Users/Alicja/Desktop/studia/projekt_zima_2021/pz-11-ml/src/base/__init__.py?line=78'>79</a>\u001B[0m game_type \u001B[39m=\u001B[39m \u001B[39mawait\u001B[39;00m socket\u001B[39m.\u001B[39mrecv()\n\u001B[0;32m     <a href='file:///c%3A/Users/Alicja/Desktop/studia/projekt_zima_2021/pz-11-ml/src/base/__init__.py?line=79'>80</a>\u001B[0m \u001B[39mawait\u001B[39;00m asyncio\u001B[39m.\u001B[39msleep(\u001B[39m0\u001B[39m)\n\u001B[0;32m     <a href='file:///c%3A/Users/Alicja/Desktop/studia/projekt_zima_2021/pz-11-ml/src/base/__init__.py?line=81'>82</a>\u001B[0m _set_var(\u001B[39m\"\u001B[39m\u001B[39mserver\u001B[39m\u001B[39m\"\u001B[39m, server)\n",
      "File \u001B[1;32m~\\AppData\\Local\\Programs\\Python\\Python39\\lib\\site-packages\\websockets\\legacy\\protocol.py:552\u001B[0m, in \u001B[0;36mWebSocketCommonProtocol.recv\u001B[1;34m(self)\u001B[0m\n\u001B[0;32m    <a href='file:///~/AppData/Local/Programs/Python/Python39/lib/site-packages/websockets/legacy/protocol.py?line=547'>548</a>\u001B[0m             \u001B[39mreturn\u001B[39;00m \u001B[39mNone\u001B[39;00m  \u001B[39m# type: ignore\u001B[39;00m\n\u001B[0;32m    <a href='file:///~/AppData/Local/Programs/Python/Python39/lib/site-packages/websockets/legacy/protocol.py?line=548'>549</a>\u001B[0m         \u001B[39melse\u001B[39;00m:\n\u001B[0;32m    <a href='file:///~/AppData/Local/Programs/Python/Python39/lib/site-packages/websockets/legacy/protocol.py?line=549'>550</a>\u001B[0m             \u001B[39m# Wait until the connection is closed to raise\u001B[39;00m\n\u001B[0;32m    <a href='file:///~/AppData/Local/Programs/Python/Python39/lib/site-packages/websockets/legacy/protocol.py?line=550'>551</a>\u001B[0m             \u001B[39m# ConnectionClosed with the correct code and reason.\u001B[39;00m\n\u001B[1;32m--> <a href='file:///~/AppData/Local/Programs/Python/Python39/lib/site-packages/websockets/legacy/protocol.py?line=551'>552</a>\u001B[0m             \u001B[39mawait\u001B[39;00m \u001B[39mself\u001B[39m\u001B[39m.\u001B[39mensure_open()\n\u001B[0;32m    <a href='file:///~/AppData/Local/Programs/Python/Python39/lib/site-packages/websockets/legacy/protocol.py?line=553'>554</a>\u001B[0m \u001B[39m# Pop a message from the queue.\u001B[39;00m\n\u001B[0;32m    <a href='file:///~/AppData/Local/Programs/Python/Python39/lib/site-packages/websockets/legacy/protocol.py?line=554'>555</a>\u001B[0m message \u001B[39m=\u001B[39m \u001B[39mself\u001B[39m\u001B[39m.\u001B[39mmessages\u001B[39m.\u001B[39mpopleft()\n",
      "File \u001B[1;32m~\\AppData\\Local\\Programs\\Python\\Python39\\lib\\site-packages\\websockets\\legacy\\protocol.py:929\u001B[0m, in \u001B[0;36mWebSocketCommonProtocol.ensure_open\u001B[1;34m(self)\u001B[0m\n\u001B[0;32m    <a href='file:///~/AppData/Local/Programs/Python/Python39/lib/site-packages/websockets/legacy/protocol.py?line=921'>922</a>\u001B[0m \u001B[39mif\u001B[39;00m \u001B[39mself\u001B[39m\u001B[39m.\u001B[39mstate \u001B[39mis\u001B[39;00m State\u001B[39m.\u001B[39mCLOSING:\n\u001B[0;32m    <a href='file:///~/AppData/Local/Programs/Python/Python39/lib/site-packages/websockets/legacy/protocol.py?line=922'>923</a>\u001B[0m     \u001B[39m# If we started the closing handshake, wait for its completion to\u001B[39;00m\n\u001B[0;32m    <a href='file:///~/AppData/Local/Programs/Python/Python39/lib/site-packages/websockets/legacy/protocol.py?line=923'>924</a>\u001B[0m     \u001B[39m# get the proper close code and reason. self.close_connection_task\u001B[39;00m\n\u001B[0;32m    <a href='file:///~/AppData/Local/Programs/Python/Python39/lib/site-packages/websockets/legacy/protocol.py?line=924'>925</a>\u001B[0m     \u001B[39m# will complete within 4 or 5 * close_timeout after close(). The\u001B[39;00m\n\u001B[0;32m    <a href='file:///~/AppData/Local/Programs/Python/Python39/lib/site-packages/websockets/legacy/protocol.py?line=925'>926</a>\u001B[0m     \u001B[39m# CLOSING state also occurs when failing the connection. In that\u001B[39;00m\n\u001B[0;32m    <a href='file:///~/AppData/Local/Programs/Python/Python39/lib/site-packages/websockets/legacy/protocol.py?line=926'>927</a>\u001B[0m     \u001B[39m# case self.close_connection_task will complete even faster.\u001B[39;00m\n\u001B[0;32m    <a href='file:///~/AppData/Local/Programs/Python/Python39/lib/site-packages/websockets/legacy/protocol.py?line=927'>928</a>\u001B[0m     \u001B[39mawait\u001B[39;00m asyncio\u001B[39m.\u001B[39mshield(\u001B[39mself\u001B[39m\u001B[39m.\u001B[39mclose_connection_task)\n\u001B[1;32m--> <a href='file:///~/AppData/Local/Programs/Python/Python39/lib/site-packages/websockets/legacy/protocol.py?line=928'>929</a>\u001B[0m     \u001B[39mraise\u001B[39;00m \u001B[39mself\u001B[39m\u001B[39m.\u001B[39mconnection_closed_exc()\n\u001B[0;32m    <a href='file:///~/AppData/Local/Programs/Python/Python39/lib/site-packages/websockets/legacy/protocol.py?line=930'>931</a>\u001B[0m \u001B[39m# Control may only reach this point in buggy third-party subclasses.\u001B[39;00m\n\u001B[0;32m    <a href='file:///~/AppData/Local/Programs/Python/Python39/lib/site-packages/websockets/legacy/protocol.py?line=931'>932</a>\u001B[0m \u001B[39massert\u001B[39;00m \u001B[39mself\u001B[39m\u001B[39m.\u001B[39mstate \u001B[39mis\u001B[39;00m State\u001B[39m.\u001B[39mCONNECTING\n",
      "\u001B[1;31mConnectionClosedError\u001B[0m: received 1011 (unexpected error); then sent 1011 (unexpected error)"
     ]
    }
   ],
   "source": [
    "make_env(\"ws://localhost:2137\", \"agarnt\", \"agarnt\", \"test_bot\")"
   ]
  },
  {
   "cell_type": "markdown",
   "metadata": {},
   "source": [
    "#### Check captured session identifier, should be not equal to None"
   ]
  },
  {
   "cell_type": "code",
   "execution_count": 5,
   "metadata": {},
   "outputs": [
    {
     "name": "stdout",
     "output_type": "stream",
     "text": [
      "\n"
     ]
    }
   ],
   "source": [
    "print(get_session_id())"
   ]
  },
  {
   "cell_type": "markdown",
   "metadata": {},
   "source": [
    "#### Spawn RandomAgarnt bot on game server"
   ]
  },
  {
   "cell_type": "code",
   "execution_count": 6,
   "metadata": {},
   "outputs": [
    {
     "name": "stderr",
     "output_type": "stream",
     "text": [
      "Exception in thread Thread-3:\n",
      "Traceback (most recent call last):\n",
      "  File \"C:\\Users\\Alicja\\AppData\\Local\\Programs\\Python\\Python39\\lib\\threading.py\", line 973, in _bootstrap_inner\n",
      "    self.run()\n",
      "  File \"C:\\Users\\Alicja\\AppData\\Local\\Programs\\Python\\Python39\\lib\\threading.py\", line 910, in run\n",
      "    self._target(*self._args, **self._kwargs)\n",
      "  File \"C:\\Users\\Alicja\\AppData\\Local\\Programs\\Python\\Python39\\lib\\multiprocessing\\pool.py\", line 513, in _handle_workers\n",
      "    cls._maintain_pool(ctx, Process, processes, pool, inqueue,\n",
      "  File \"C:\\Users\\Alicja\\AppData\\Local\\Programs\\Python\\Python39\\lib\\multiprocessing\\pool.py\", line 337, in _maintain_pool\n",
      "    Pool._repopulate_pool_static(ctx, Process, processes, pool,\n",
      "  File \"C:\\Users\\Alicja\\AppData\\Local\\Programs\\Python\\Python39\\lib\\multiprocessing\\pool.py\", line 326, in _repopulate_pool_static\n",
      "    w.start()\n",
      "  File \"C:\\Users\\Alicja\\AppData\\Local\\Programs\\Python\\Python39\\lib\\multiprocessing\\process.py\", line 121, in start\n",
      "    self._popen = self._Popen(self)\n",
      "  File \"C:\\Users\\Alicja\\AppData\\Local\\Programs\\Python\\Python39\\lib\\multiprocessing\\context.py\", line 327, in _Popen\n",
      "    return Popen(process_obj)\n",
      "  File \"C:\\Users\\Alicja\\AppData\\Local\\Programs\\Python\\Python39\\lib\\multiprocessing\\popen_spawn_win32.py\", line 73, in __init__\n",
      "    hp, ht, pid, tid = _winapi.CreateProcess(\n",
      "OSError: [WinError 8] Za mało zasobów pamięci, aby można było przetworzyć to polecenie\n"
     ]
    }
   ],
   "source": [
    "gen = np.random.default_rng(2137)\n",
    "\n",
    "# manager = spawn_bots(\"ws://localhost:2137\", get_session_id(), RandomAgent, 1, generator=gen)\n",
    "manager = spawn_bots(\"ws://localhost:2137\", \"session_c120c2772c1d691d\", CloseFoodAgent, 50, generator=gen)"
   ]
  },
  {
   "cell_type": "code",
   "execution_count": null,
   "outputs": [],
   "source": [
    "\n",
    "manager = spawn_bots(\"http://localhost:3000\", \"session_92c0af8c5878262a\")"
   ],
   "metadata": {
    "collapsed": false,
    "pycharm": {
     "name": "#%%\n"
    }
   }
  },
  {
   "cell_type": "markdown",
   "metadata": {},
   "source": [
    "#### Terminate bot after 10 seconds"
   ]
  },
  {
   "cell_type": "code",
   "execution_count": 6,
   "metadata": {},
   "outputs": [],
   "source": [
    "# import signal\n",
    "# from time import sleep\n",
    "# global_done = False\n",
    "# def terminate_bots():\n",
    "#     global global_done\n",
    "#     global_done = True\n",
    "#     manager.terminate(2)\n",
    "\n",
    "# signal.signal(signal.SIGINT, terminate_bots)\n",
    "\n",
    "# try:\n",
    "#     sleep(5)\n",
    "#     bot = CloseFoodAgent(gen)\n",
    "#     bot.handle_new_states(None)\n",
    "#     while not bot.is_done and not global_done:\n",
    "#         sleep(0.1)\n",
    "#         act = bot.choose_action()\n",
    "# except:\n",
    "#     pass"
   ]
  },
  {
   "cell_type": "code",
   "execution_count": 7,
   "metadata": {},
   "outputs": [],
   "source": [
    "manager.terminate(20)\n",
    "\n",
    "cleanup()"
   ]
  },
  {
   "cell_type": "code",
   "execution_count": null,
   "metadata": {},
   "outputs": [],
   "source": []
  }
 ],
 "metadata": {
  "interpreter": {
   "hash": "134380bcb76e9f38813ee820b4091b0a25d392ed16476afb1daeb15f0b11eb2d"
  },
  "kernelspec": {
   "display_name": "Python 3.9.7 64-bit ('ml_env': venv)",
   "language": "python",
   "name": "python3"
  },
  "language_info": {
   "codemirror_mode": {
    "name": "ipython",
    "version": 3
   },
   "file_extension": ".py",
   "mimetype": "text/x-python",
   "name": "python",
   "nbconvert_exporter": "python",
   "pygments_lexer": "ipython3",
   "version": "3.9.7"
  },
  "orig_nbformat": 4
 },
 "nbformat": 4,
 "nbformat_minor": 2
}