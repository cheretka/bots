{
 "cells": [
  {
   "cell_type": "markdown",
   "metadata": {},
   "source": [
    "# BotsBattles"
   ]
  },
  {
   "cell_type": "markdown",
   "metadata": {},
   "source": [
    "### Simple showcase"
   ]
  },
  {
   "cell_type": "markdown",
   "metadata": {},
   "source": [
    "#### Basic imports"
   ]
  },
  {
   "cell_type": "code",
   "execution_count": 1,
   "metadata": {},
   "outputs": [],
   "source": [
    "from src import make_env, get_session_id, spawn_bots, RandomAgent, CloseFoodAgent, GradAgent, cleanup\n",
    "import numpy as np"
   ]
  },
  {
   "cell_type": "code",
   "execution_count": 2,
   "metadata": {},
   "outputs": [
    {
     "name": "stdout",
     "output_type": "stream",
     "text": [
      "Collecting setproctitle\n",
      "  Downloading setproctitle-1.3.2-cp39-cp39-win_amd64.whl (11 kB)\n",
      "Installing collected packages: setproctitle\n",
      "Successfully installed setproctitle-1.3.2\n"
     ]
    },
    {
     "name": "stderr",
     "output_type": "stream",
     "text": [
      "\n",
      "[notice] A new release of pip available: 22.3.1 -> 23.0.1\n",
      "[notice] To update, run: python.exe -m pip install --upgrade pip\n"
     ]
    }
   ],
   "source": [
    "! pip install setproctitle"
   ]
  },
  {
   "cell_type": "markdown",
   "metadata": {},
   "source": [
    "#### Create an environment for Agarn't game"
   ]
  },
  {
   "cell_type": "code",
   "execution_count": 7,
   "metadata": {},
   "outputs": [
    {
     "name": "stderr",
     "output_type": "stream",
     "text": [
      "Established connection at: localhost\n"
     ]
    },
    {
     "data": {
      "text/plain": "<websockets.legacy.client.WebSocketClientProtocol at 0x14f9fd9dc10>"
     },
     "execution_count": 7,
     "metadata": {},
     "output_type": "execute_result"
    }
   ],
   "source": [
    "make_env(\"ws://localhost:2137\", \"agarnt\", \"agarnt\", \"test_bot\")"
   ]
  },
  {
   "cell_type": "markdown",
   "metadata": {},
   "source": [
    "#### Check captured session identifier, should be not equal to None"
   ]
  },
  {
   "cell_type": "code",
   "execution_count": 8,
   "metadata": {},
   "outputs": [
    {
     "name": "stdout",
     "output_type": "stream",
     "text": [
      "session_a8f34da264686bab\n"
     ]
    }
   ],
   "source": [
    "print(get_session_id())"
   ]
  },
  {
   "cell_type": "markdown",
   "metadata": {},
   "source": [
    "#### Spawn RandomAgarnt bot on game server"
   ]
  },
  {
   "cell_type": "code",
   "execution_count": 9,
   "metadata": {},
   "outputs": [],
   "source": [
    "gen = np.random.default_rng(2137)\n",
    "\n",
    "manager = spawn_bots(\"ws://localhost:2137\",\n",
    "                     get_session_id(),\n",
    "                     RandomAgent,\n",
    "                     1,\n",
    "                     generator=gen)\n",
    "# manager = spawn_bots(\"ws://localhost:2137\",\n",
    "#                      \"session_c120c2772c1d691d\",\n",
    "#                      CloseFoodAgent,\n",
    "#                      50,\n",
    "#                      generator=gen)"
   ]
  },
  {
   "cell_type": "code",
   "execution_count": 6,
   "outputs": [
    {
     "ename": "TypeError",
     "evalue": "spawn_bots() missing 2 required positional arguments: 'bot_class' and 'count'",
     "output_type": "error",
     "traceback": [
      "\u001B[1;31m---------------------------------------------------------------------------\u001B[0m",
      "\u001B[1;31mTypeError\u001B[0m                                 Traceback (most recent call last)",
      "Input \u001B[1;32mIn [6]\u001B[0m, in \u001B[0;36m<cell line: 1>\u001B[1;34m()\u001B[0m\n\u001B[1;32m----> 1\u001B[0m manager \u001B[38;5;241m=\u001B[39m \u001B[43mspawn_bots\u001B[49m\u001B[43m(\u001B[49m\u001B[38;5;124;43m\"\u001B[39;49m\u001B[38;5;124;43mhttp://localhost:3000\u001B[39;49m\u001B[38;5;124;43m\"\u001B[39;49m\u001B[43m,\u001B[49m\u001B[43m \u001B[49m\u001B[38;5;124;43m\"\u001B[39;49m\u001B[38;5;124;43msession_92c0af8c5878262a\u001B[39;49m\u001B[38;5;124;43m\"\u001B[39;49m\u001B[43m)\u001B[49m\n",
      "\u001B[1;31mTypeError\u001B[0m: spawn_bots() missing 2 required positional arguments: 'bot_class' and 'count'"
     ]
    }
   ],
   "source": [
    "\n",
    "manager = spawn_bots(\"http://localhost:3000\", \"session_92c0af8c5878262a\")"
   ],
   "metadata": {
    "collapsed": false,
    "pycharm": {
     "name": "#%%\n"
    }
   }
  },
  {
   "cell_type": "markdown",
   "metadata": {},
   "source": [
    "#### Terminate bot after 10 seconds"
   ]
  },
  {
   "cell_type": "code",
   "execution_count": 6,
   "metadata": {},
   "outputs": [],
   "source": [
    "# import signal\n",
    "# from time import sleep\n",
    "# global_done = False\n",
    "# def terminate_bots():\n",
    "#     global global_done\n",
    "#     global_done = True\n",
    "#     manager.terminate(2)\n",
    "\n",
    "# signal.signal(signal.SIGINT, terminate_bots)\n",
    "\n",
    "# try:\n",
    "#     sleep(5)\n",
    "#     bot = CloseFoodAgent(gen)\n",
    "#     bot.handle_new_states(None)\n",
    "#     while not bot.is_done and not global_done:\n",
    "#         sleep(0.1)\n",
    "#         act = bot.choose_action()\n",
    "# except:\n",
    "#     pass"
   ]
  },
  {
   "cell_type": "code",
   "execution_count": 7,
   "metadata": {},
   "outputs": [],
   "source": [
    "manager.terminate(20)\n",
    "\n",
    "cleanup()"
   ]
  },
  {
   "cell_type": "code",
   "execution_count": null,
   "metadata": {},
   "outputs": [],
   "source": []
  }
 ],
 "metadata": {
  "interpreter": {
   "hash": "134380bcb76e9f38813ee820b4091b0a25d392ed16476afb1daeb15f0b11eb2d"
  },
  "kernelspec": {
   "display_name": "Python 3.9.7 64-bit ('ml_env': venv)",
   "language": "python",
   "name": "python3"
  },
  "language_info": {
   "codemirror_mode": {
    "name": "ipython",
    "version": 3
   },
   "file_extension": ".py",
   "mimetype": "text/x-python",
   "name": "python",
   "nbconvert_exporter": "python",
   "pygments_lexer": "ipython3",
   "version": "3.9.7"
  },
  "orig_nbformat": 4
 },
 "nbformat": 4,
 "nbformat_minor": 2
}